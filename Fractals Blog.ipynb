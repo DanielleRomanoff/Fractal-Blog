{
 "cells": [
  {
   "cell_type": "markdown",
   "metadata": {},
   "source": [
    "# <center>Fractals are SMART: Science, Math, and Art</center>\n",
    "### <center>Part 2 will use data to Create Multiple Art Forms</center>"
   ]
  },
  {
   "cell_type": "markdown",
   "metadata": {},
   "source": [
    "In high school, we are introduced to geometry. Specifically Euclidean Geometry. Even in our college experiences, Euclidean Geometry is the focus for students not majoring in a field that requires higher level mathematics. There are however, a great deal more categories of geometry we generally don't study in any depth."
   ]
  },
  {
   "cell_type": "markdown",
   "metadata": {},
   "source": [
    "Any type of geometry that isn't Euclidean, is termed Non-Euclidean Geometry. While Non-Euclidean Geometry tells us we are looking at something other than what we are familiar with, it doesn't tell us anything about the specific type of geometry we are observing."
   ]
  },
  {
   "cell_type": "markdown",
   "metadata": {},
   "source": [
    ">Briefly, Euclidean geometry is a system based on a small set of assumptions. The assumptions are\n",
    ">called postulates or axioms. Euclid gives five axioms at the beginning of his book 'Elements' from\n",
    ">which all theorems or true statements can be derived. Before we can use an additional theorem in another proof, we must first validate it using the initial five axioms provided. This article isn't really about Euclidean geometry so that description should suffice for now."
   ]
  },
  {
   "cell_type": "markdown",
   "metadata": {},
   "source": [
    "This following model is based on Euclidian geometry. However, please notice how it iterates through the various circles and colors to create a nice image. Now imagine what you can do with non-Euclidean geometries. "
   ]
  },
  {
   "cell_type": "markdown",
   "metadata": {},
   "source": [
    "<iframe width=\"560\" height=\"315\" src=\"https://www.youtube.com/embed/c3sBhxNdxKQ\" frameborder=\"0\" allow=\"accelerometer; autoplay; encrypted-media; gyroscope; picture-in-picture\" allowfullscreen></iframe>\n",
    "\n",
    "# video is here"
   ]
  },
  {
   "cell_type": "markdown",
   "metadata": {},
   "source": [
    "Below is a list, not comprehesive by any means, of other geometries that exist:\n",
    " - Hyperbolic geometry\n",
    " - Elliptic geometry\n",
    " - Spherical geometry\n",
    " - Parabolic geometry\n",
    " - Discrete geometry\n",
    " - Hilbert geometry\n",
    " - **Fractal geometry** (our focus here for part one of this blog)\n",
    "\n",
    "To find additional types of geometries, Wikipedia has a nice list:\n",
    "   https://en.wikipedia.org/wiki/List_of_geometry_topics \n",
    "From there you can click on each one if you'd like to know more about it."
   ]
  },
  {
   "cell_type": "markdown",
   "metadata": {},
   "source": [
    "**Fractal Geometry** is a fascinating subject to explore. It is indeed a branch of mathematics but their renderings are so beautiful, they've become an integral part of the art world. Fractals were explored prior to the invention of computers. Imagine that for a moment. They were discovered quite by accident as British cartographers were attempting to measure the length of the British coast. The closer they looked, the more detailed and longer the coastline became. They actually discovered one of the main properties of fractals."
   ]
  },
  {
   "cell_type": "markdown",
   "metadata": {},
   "source": [
    "![What is a Fractal](What-is-a-fractal.png)"
   ]
  },
  {
   "cell_type": "markdown",
   "metadata": {},
   "source": [
    "##### <center>**The Sierpinski Triangle below provides a clear visual of how the repetition of shapes in a fractal interates.**</center>"
   ]
  },
  {
   "cell_type": "markdown",
   "metadata": {},
   "source": [
    "<div style=\"width:100%;height:0;padding-bottom:87%;position:relative;\"><iframe src=\"https://giphy.com/embed/JReakhhPF0eEE\" width=\"100%\" height=\"100%\" style=\"position:absolute\" frameBorder=\"0\" class=\"giphy-embed\" allowFullScreen></iframe></div><p><a href=\"https://giphy.com/gifs/math-fractal-mathematics-JReakhhPF0eEE\">via GIPHY</a></p>"
   ]
  },
  {
   "cell_type": "markdown",
   "metadata": {},
   "source": [
    "https://media.giphy.com/media/JReakhhPF0eEE/giphy.gif"
   ]
  },
  {
   "cell_type": "markdown",
   "metadata": {},
   "source": [
    "Using a simple equation, we can see exactly how the iteraction occurs."
   ]
  },
  {
   "cell_type": "markdown",
   "metadata": {},
   "source": [
    "$x^2 + 1 = y$ We first substitute a value for x. Solve the equation for y. Then take the value of y and make it our new x. The best way to illustrate this is to actually use real values."
   ]
  },
  {
   "cell_type": "markdown",
   "metadata": {},
   "source": [
    "![Table](Table.png)"
   ]
  },
  {
   "cell_type": "markdown",
   "metadata": {},
   "source": [
    ">Our first value was 1 for x which gave us 2 for y. That gives us the coordinates (1,2). Now\n",
    ">we use 2 for x and that gives us 5 for y. Our next set of coordinates: (2,5). The five sets\n",
    ">of coordinates here are **(1,2) (2,5) (5,26) (26,677) (677, 458330).** This iteration\n",
    ">continues on and gives us, if we choose, an infinte set of coordinates."
   ]
  },
  {
   "cell_type": "markdown",
   "metadata": {},
   "source": [
    "This was a simple equal but what if we had $z = z^2 + C$. C is a constant but let's make z a complex number $(a + bi).$ It's that complex number that creates the beauty we see in the resulting fractals. These complex numbers and formulas are used everywhere in our world. One such example is an electrocardiogram also referred to an EKG or an ECG. Doctors use EKG's in their offices regularly to get a read on the functioning of someone's heart. That is just one example of an exhaustive list."
   ]
  },
  {
   "cell_type": "markdown",
   "metadata": {},
   "source": [
    "**Non-Integer Dimension** can best be explain by using classical geometry. Classical geometry uses objects of integer dimensions. For instance, one dimensional lines and curves, two dimensional plane figures. Think of rectangles and circles. Three dimensional solids like dice and basketballs. Fractals are not so straight forward as classical geometry. They deal with more complex numbers and have interative functions."
   ]
  },
  {
   "cell_type": "markdown",
   "metadata": {},
   "source": [
    "The above was all background to what I really wanted to do here. I want to show you the power a computer has to create fractals and the beauty resulting from that. Some use data sets to create multiple fractals, others use recursion to iterate through the function. All Fractals here have been created using Python. "
   ]
  },
  {
   "cell_type": "markdown",
   "metadata": {},
   "source": [
    "Let's start with some Julia-Set Fractals. I have a series here with a simple difference between each rendering. It's truly amazing the amount of detail you still get after zooming in on the initial figure."
   ]
  },
  {
   "cell_type": "markdown",
   "metadata": {},
   "source": [
    "![Full Image no Zoom](julia-set_1.png) ![Full Image 2 Zoom](julia-set_2.png)\n",
    "##### I used only a zoom of 2 here. Let's see what happens as I zoom in further."
   ]
  },
  {
   "cell_type": "markdown",
   "metadata": {},
   "source": [
    "![Full Image 4 Zoom](julia_set_4.png)  ![Full Image 60 Zoom](julia-set_60.png)     \n",
    "It's quite incredible what you can see here. From the first image to the second image, I used a zoom of 2. The third image, I used a zoom of 4. In other words, four times that of the original but only twice that of the second image. The last image has a zoom of 60. Think about how deep we dove into the fractal with a zoom of 60. The detail is not less than the original and the design continues to repeat itself. In fact, it almost looks like we zoomed out instead of in. It's a bit mezmorizing. "
   ]
  },
  {
   "cell_type": "markdown",
   "metadata": {},
   "source": [
    "I created something similar with the Mandelbrot set but here I have only two images. Look at how accurate the second image is compared with the first. It's not blurred or muted but rather the exact detail of the first image. Because of the colors, I made the images slightly larger. Study the detail from the first to the second."
   ]
  },
  {
   "cell_type": "markdown",
   "metadata": {},
   "source": [
    "![mandelbrot_1](mandelbrot_2.png)  ![mandelbrot_2](mandelbrot_3.png) "
   ]
  },
  {
   "cell_type": "markdown",
   "metadata": {},
   "source": [
    "Just for some fun with colors, I created another couple of images for you. They are both mandelbrot sets. You can see here how much you can change the look of one image just by changing the colors being used."
   ]
  },
  {
   "cell_type": "markdown",
   "metadata": {},
   "source": [
    "![mandelbrot_4](mandelbrot_4.png)  ![mandelbrot_5](mandelbrot_5.png) "
   ]
  },
  {
   "cell_type": "markdown",
   "metadata": {},
   "source": [
    ">When I started this article, I was planning on just showing fractals. While studying the\n",
    ">fractals and the images created by the formulas, I came across another type of art derived\n",
    ">totally from math and data. Visual Chaotic Attractors are even more extraordinary than the\n",
    ">fractals you've seen here. Here is a teaser for my next article. This is called a Clifford\n",
    ">attractor. Using a data set and python, the following visual was created. It's simply\n",
    ">shades of grey and white. In my next article, I'll show you how you can use attractors to\n",
    ">create masterpieces in various colors."
   ]
  },
  {
   "cell_type": "markdown",
   "metadata": {},
   "source": [
    "![Clifford Attractor](Attractor.png) "
   ]
  }
 ],
 "metadata": {
  "kernelspec": {
   "display_name": "Python 3",
   "language": "python",
   "name": "python3"
  },
  "language_info": {
   "codemirror_mode": {
    "name": "ipython",
    "version": 3
   },
   "file_extension": ".py",
   "mimetype": "text/x-python",
   "name": "python",
   "nbconvert_exporter": "python",
   "pygments_lexer": "ipython3",
   "version": "3.6.8"
  }
 },
 "nbformat": 4,
 "nbformat_minor": 2
}
