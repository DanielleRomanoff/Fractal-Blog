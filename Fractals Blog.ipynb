{
 "cells": [
  {
   "cell_type": "markdown",
   "metadata": {},
   "source": [
    "# <center>Fascinating Fractals</center>"
   ]
  },
  {
   "cell_type": "markdown",
   "metadata": {},
   "source": [
    "Geometry, for me, has always been a favorite topic in mathematics. In additional to being very analytical, I am also incredibly visual. As such, being able to see what is happening with diagrams and/or pictures is invaluable to me. \n",
    "\n",
    "Like most people, when we think of Geometry, we tend to think of Euclidean Geometry. It's what we learn in high school and if we take a college Geometry class, that is where we start. For those who have concentrated in mathematics during their higher level degrees, we find there are far more geometries than Euclidean. "
   ]
  },
  {
   "cell_type": "markdown",
   "metadata": {},
   "source": [
    "Since Euclidean geometry is what we tend to be familiar with, other geometries tend to be termed Non-Euclidean geometry. Technically, they are Non-Euclidean but that doesn't tell us very much about a specific the other kinds. \n",
    "\n",
    "A brief description of Euclidean geometry. Euclidean geometry is a system based on a small set of assumptions. The assumptions are called postulates or axioms. Euclid gives five axioms at the beginning of his book 'Elements' from which all theorems or true statements can be derived from. Of course, we must prove the theorems using the axioms provided. This article isn't really about Euclidean geometry so that description should suffice for now."
   ]
  },
  {
   "cell_type": "markdown",
   "metadata": {},
   "source": [
    "Here is a list, not exhaustive as it's extensive, of other geometries that exist:\n",
    " - Hyperbolic geometry\n",
    " - Elliptic geometry\n",
    " - Spherical geometry\n",
    " - Parabolic geometry\n",
    " - Discrete geometry\n",
    " - Hilbert geometry\n",
    " - **Fractal geometry** (our focus here)\n",
    "\n",
    "To find additional types of geometries, Wikipedia has a nice list:\n",
    "   https://en.wikipedia.org/wiki/List_of_geometry_topics \n",
    "From there you can click on each one if you'd like to know more about it."
   ]
  },
  {
   "cell_type": "markdown",
   "metadata": {},
   "source": [
    "**Fractal Geometry** is a fascinating subject to explore. It is indeed a branch of mathematics but it is also a branch of art. There have been many artists who use math in their art form but fractals are a bit different. Fractals are mathematical equations that result in beautiful art forms. \n",
    "\n",
    "Fractals were explored prior to the invention of computers. Imagine that for a moment. They were discovered quite by accident as British cartographers were attempting to measure the length of the British coast. The closer they looked, the more detailed and longer the coastline became. They actually discovered one of the main properties of fractals.\n",
    "\n",
    "Exploring fractals by hand these days would be a colossal waste of time. Understanding fractals is essential. These days, we have powerful computers that allow us to explore fractals quickly and create masterpieces with them."
   ]
  },
  {
   "cell_type": "markdown",
   "metadata": {},
   "source": [
    "What are the properties of fractals?\n",
    "    **Two Important Features**\n",
    "        - Self Similarity\n",
    "        - Non-Integer Dimension\n",
    "\n",
    "A fern leaf is a good example of **Self Similarity**. Take a close look at the leaf. Notice that each little leaf that is part of the big one has the very same shape as the whole leaf itself. Fractals work the same way. No matter how much you zoom in on a fractal, you will see the same shape.\n",
    "\n",
    "**Non-Integer Dimension** can best be explain by using classical geometry. Classical geometry uses objects of integer dimensions. For instance, one dimensional lines and curves, two dimensional plane figures. Think of rectangles and circles. Three dimensional solids like dice and basketballs. Fractals are not so straight forward as classical geometry. They deal with more complex numbers and have interative functions.\n",
    "\n",
    "*reference: Lewis R. Fractals In Your Future. Chapter 1. Ontario 2000.*"
   ]
  },
  {
   "cell_type": "markdown",
   "metadata": {},
   "source": [
    "Some every day examples of where you might find fractals without even realizing it.\n",
    "    - Fractal Landscaping\n",
    "        - Movies e.g., *Star Trek*\n",
    "        - Computer Graphics\n",
    "        - Computer and Video Games\n",
    "    - Medicine\n",
    "    - Fractal Art and Music\n",
    "    - Bacteria Cultures\n",
    "    - Galaxies\n",
    "    - Your Own Body"
   ]
  },
  {
   "cell_type": "markdown",
   "metadata": {},
   "source": [
    "Here is a link to a video that explains fractals really well. Take a look if you have about 10 extra minutes to spare. https://youtu.be/2kZv22Ip1Vs   by T Sithu"
   ]
  },
  {
   "cell_type": "markdown",
   "metadata": {},
   "source": [
    "The above was all background to what I really wanted to do here. I want to show you the power a computer has to create fractals and the beauty resulting from that. Below, I will use Python to create various fractals. "
   ]
  },
  {
   "cell_type": "code",
   "execution_count": null,
   "metadata": {},
   "outputs": [],
   "source": []
  },
  {
   "cell_type": "code",
   "execution_count": null,
   "metadata": {},
   "outputs": [],
   "source": []
  }
 ],
 "metadata": {
  "kernelspec": {
   "display_name": "Python 3",
   "language": "python",
   "name": "python3"
  },
  "language_info": {
   "codemirror_mode": {
    "name": "ipython",
    "version": 3
   },
   "file_extension": ".py",
   "mimetype": "text/x-python",
   "name": "python",
   "nbconvert_exporter": "python",
   "pygments_lexer": "ipython3",
   "version": "3.6.8"
  }
 },
 "nbformat": 4,
 "nbformat_minor": 2
}
